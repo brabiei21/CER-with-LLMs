{
 "cells": [
  {
   "cell_type": "markdown",
   "metadata": {},
   "source": [
    "### Let's see if the API key works"
   ]
  },
  {
   "cell_type": "code",
   "execution_count": 1,
   "metadata": {},
   "outputs": [],
   "source": [
    "import langchain\n",
    "import os\n",
    "from model import init_llm\n",
    "from dotenv import load_dotenv\n",
    "from prompts import get_generation_prompt_initial\n",
    "load_dotenv()\n",
    "import random\n",
    "import time \n",
    "\n",
    "verbose = False"
   ]
  },
  {
   "cell_type": "code",
   "execution_count": 2,
   "metadata": {},
   "outputs": [],
   "source": [
    "# Utility functions\n",
    "# Function to randomly select subsets of varying sizes\n",
    "def select_random_subsets(input_list, num_subsets):\n",
    "    subsets = []\n",
    "    list_length = len(input_list)\n",
    "    \n",
    "    for _ in range(num_subsets):\n",
    "        subset_size = random.randint(1, list_length)  # Random subset size\n",
    "        subset = random.sample(input_list, subset_size)\n",
    "        subsets.append(subset)\n",
    "    \n",
    "    return subsets\n",
    "\n",
    "def extract_dimensions_and_color(text):\n",
    "    # Initialize default values for dimensions and color\n",
    "    dimensions, color = None, None\n",
    "    \n",
    "    # Split the text into lines for easier processing\n",
    "    lines = text.split('\\n')\n",
    "    \n",
    "    for line in lines:\n",
    "        # Check if the line contains the keyword 'dimensions' or 'color'\n",
    "        if 'dimensions' in line.lower():\n",
    "            # Extract the value after the keyword 'dimensions'\n",
    "            dimensions = line.split(':', 1)[-1].strip()\n",
    "        elif 'color' in line.lower():\n",
    "            # Extract the value after the keyword 'color'\n",
    "            color = line.split(':', 1)[-1].strip()\n",
    "    \n",
    "    return dimensions, color"
   ]
  },
  {
   "cell_type": "code",
   "execution_count": 3,
   "metadata": {},
   "outputs": [],
   "source": [
    "llm = init_llm()"
   ]
  },
  {
   "cell_type": "code",
   "execution_count": 4,
   "metadata": {},
   "outputs": [],
   "source": [
    "# put random seed\n",
    "\n",
    "features = ['price', 'telephone number', 'color', 'dimensions']\n",
    "positive = ['color', 'dimensions']\n",
    "negative = [\"price\", \"telephone number\"]"
   ]
  },
  {
   "cell_type": "code",
   "execution_count": 5,
   "metadata": {},
   "outputs": [],
   "source": [
    "prompt = get_generation_prompt_initial()\n",
    "\n",
    "gen_query_chain = langchain.LLMChain(\n",
    "        llm=llm,\n",
    "        prompt=prompt,\n",
    "        verbose=verbose\n",
    "    )"
   ]
  },
  {
   "cell_type": "code",
   "execution_count": 7,
   "metadata": {},
   "outputs": [],
   "source": [
    "random_subsets = select_random_subsets(features, 100)\n",
    "\n",
    "for i in random_subsets:\n",
    "    common_elements = set(positive).intersection(set(i))\n",
    "    common_elements_list = list(common_elements)\n",
    "    output = gen_query_chain.predict(features = i, positives = common_elements_list)\n",
    "    dimensions, color = extract_dimensions_and_color(output)\n",
    "    with open('example_file.txt', 'a') as file:\n",
    "    # Write the string to the file\n",
    "        file.write(output + f\", [{dimensions}, {color}, {i}, {common_elements}]\\n\\n\\n\")\n",
    "    time.sleep(5)\n"
   ]
  },
  {
   "cell_type": "code",
   "execution_count": null,
   "metadata": {},
   "outputs": [],
   "source": []
  },
  {
   "cell_type": "code",
   "execution_count": null,
   "metadata": {},
   "outputs": [],
   "source": []
  },
  {
   "cell_type": "code",
   "execution_count": null,
   "metadata": {},
   "outputs": [],
   "source": []
  },
  {
   "cell_type": "code",
   "execution_count": null,
   "metadata": {},
   "outputs": [],
   "source": []
  },
  {
   "cell_type": "code",
   "execution_count": null,
   "metadata": {},
   "outputs": [],
   "source": []
  }
 ],
 "metadata": {
  "kernelspec": {
   "display_name": "base",
   "language": "python",
   "name": "python3"
  },
  "language_info": {
   "codemirror_mode": {
    "name": "ipython",
    "version": 3
   },
   "file_extension": ".py",
   "mimetype": "text/x-python",
   "name": "python",
   "nbconvert_exporter": "python",
   "pygments_lexer": "ipython3",
   "version": "3.8.5"
  }
 },
 "nbformat": 4,
 "nbformat_minor": 2
}
