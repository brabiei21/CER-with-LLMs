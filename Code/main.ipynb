{
 "cells": [
  {
   "cell_type": "markdown",
   "metadata": {},
   "source": [
    "### Let's see if the API key works"
   ]
  },
  {
   "cell_type": "code",
   "execution_count": 1,
   "metadata": {},
   "outputs": [],
   "source": [
    "import langchain\n",
    "import os\n",
    "from model import init_llm\n",
    "from dotenv import load_dotenv\n",
    "from prompts import get_blurb_prompt\n",
    "import random\n",
    "import time \n",
    "import json\n",
    "\n",
    "verbose = False\n",
    "load_dotenv()\n",
    "file_path = 'dataset.jsonl'"
   ]
  },
  {
   "cell_type": "code",
   "execution_count": 2,
   "metadata": {},
   "outputs": [],
   "source": [
    "# Utility functions\n",
    "\n",
    "# Function to randomly select subsets of varying sizes\n",
    "def select_random_subsets(input_list, num_subsets):\n",
    "    subsets = []\n",
    "    list_length = len(input_list)\n",
    "    \n",
    "    for _ in range(num_subsets):\n",
    "        subset_size = random.randint(1, list_length)  # Random subset size\n",
    "        subset = random.sample(input_list, subset_size)\n",
    "        subsets.append(subset)\n",
    "    \n",
    "    return subsets"
   ]
  },
  {
   "cell_type": "code",
   "execution_count": 3,
   "metadata": {},
   "outputs": [],
   "source": [
    "# initialize the language model\n",
    "# llm = init_llm()\n",
    "\n",
    "# prompt = get_blurb_prompt()\n",
    "\n",
    "# gen_query_chain = langchain.LLMChain(\n",
    "#         llm=llm,\n",
    "#         prompt=prompt,\n",
    "#         verbose=verbose\n",
    "#     )"
   ]
  },
  {
   "cell_type": "code",
   "execution_count": 4,
   "metadata": {},
   "outputs": [],
   "source": [
    "# Pre-defined feature sets\n",
    "\n",
    "features = ['price', 'phone_number', 'color', 'dimension']\n",
    "positive = ['color', 'dimension']\n",
    "negative = [\"price\", \"phone_number\"]\n",
    "\n",
    "colors = [\"red\", \"blue\", \"green\", \"yellow\", \"black\", \"white\", \"purple\", \"orange\", \"pink\", \"brown\"]\n",
    "phone_numbers = [\"123-456-7890\", \"234-567-8901\", \"345-678-9012\", \"456-789-0123\", \"567-890-1234\", \"678-901-2345\", \"789-012-3456\", \"890-123-4567\", \"901-234-5678\", \"012-345-6789\"]\n",
    "prices = [\"$100\", \"$200\", \"$300\", \"$400\", \"$500\", \"$600\", \"$700\", \"$800\", \"$900\", \"$1000\"]\n",
    "dimensions = [\"1x1\", \"2x2\", \"3x3\", \"4x4\", \"5x5\", \"6x6\", \"7x7\", \"8x8\", \"9x9\", \"10x10\"]\n",
    "\n",
    "data = {'color': colors, 'phone_number': phone_numbers, 'price': prices, 'dimension': dimensions}\n"
   ]
  },
  {
   "cell_type": "code",
   "execution_count": 6,
   "metadata": {},
   "outputs": [],
   "source": [
    "random_subsets = select_random_subsets(features, 5)\n",
    "\n",
    "ground_truths = []\n",
    "\n",
    "for idx, feature_set in enumerate(random_subsets):\n",
    "\n",
    "    ground_truth = []\n",
    "    vals = []\n",
    "\n",
    "    for feature in feature_set:\n",
    "        if feature == \"dimension\":\n",
    "            dim = random.choice(data[feature])\n",
    "            ground_truth.append(dim)\n",
    "            vals.append(dim)\n",
    "        \n",
    "        if feature == \"color\":\n",
    "            col = random.choice(data[feature])\n",
    "            ground_truth.append(col)\n",
    "            vals.append(col)\n",
    "\n",
    "        if feature == \"price\":\n",
    "            pri = random.choice(data[feature])\n",
    "            vals.append(pri)\n",
    "\n",
    "        if feature == \"phone_number\":\n",
    "            pho = random.choice(data[feature])\n",
    "            vals.append(pho)\n",
    "\n",
    "    #output = gen_query_chain.predict(features=feature_set, values=vals)\n",
    "    output = 'Hello there my boy'\n",
    "\n",
    "    temp = {\"Query\": output, \"Feature Set\": feature_set, \"Values\": vals, \"Ground Truth\": ground_truth}\n",
    "\n",
    "    with open(file_path, \"a\") as f:\n",
    "        json.dump(temp, f)  # Write JSON object\n",
    "        f.write('\\n')       # Add a newline to separate objects"
   ]
  },
  {
   "cell_type": "code",
   "execution_count": 7,
   "metadata": {},
   "outputs": [
    {
     "name": "stdout",
     "output_type": "stream",
     "text": [
      "{'Query': \"Introducing the sleek and stylish Widget-X, available now in a stunning white hue that exudes sophistication. With its cutting-edge design and top-notch features, this innovative gadget is the perfect companion for your everyday adventures. Dial up your connectivity with ease using the included phone_number: 345-678-9012. And the best part? This premium device comes at an unbeatable price of just $100, making it a must-have for tech enthusiasts everywhere. Don't miss out on the opportunity to experience the future of communication in the palm of your hand. Get your Widget-X today!\", 'Feature Set': ['phone_number', 'color', 'price'], 'Values': ['345-678-9012', 'white', '$100'], 'Ground Truth': ['white']}\n",
      "{'Query': \"Discover the wonder of infinite possibilities with our latest creation: the Dimension-X cube, measuring an astounding 9x9 in size. Immerse yourself in a realm where imagination knows no bounds as you explore the depths of this captivating dimension. Whether you're a seasoned puzzle enthusiast or a curious adventurer, the Dimension-X cube promises hours of entertainment and exploration. Unlock new dimensions of fun and challenge yourself to unravel its mysteries. Are you ready to step into a world where the only limit is your imagination? Embrace the Dimension-X cube and embark on an unforgettable journey today.\", 'Feature Set': ['dimension'], 'Values': ['9x9'], 'Ground Truth': ['9x9']}\n",
      "{'Query': 'Introducing the pinnacle of elegance and innovation: our White Wonder, a masterpiece in the realm of design. With dimensions of 6x6, its compact yet spacious form provides the perfect balance of functionality and style. Enveloped in a pristine white hue, this marvel exudes sophistication from every angle. And at a price of just $1000, the White Wonder offers unparalleled value for those seeking refinement without compromise. Elevate your surroundings with this timeless addition to your space. Experience luxury redefined with the White Wonder.', 'Feature Set': ['price', 'dimension', 'color'], 'Values': ['$1000', '6x6', 'white'], 'Ground Truth': ['6x6', 'white']}\n",
      "{'Query': 'Introducing the Quantum Cube: a marvel of engineering with dimensions of 7x7. Prepare to be mesmerized by its perfect symmetry and endless possibilities. Dive into a world where dimensions intertwine and boundaries dissolve. With the Quantum Cube, exploration knows no limits. Unlock the secrets of the universe and embark on a journey beyond imagination.', 'Feature Set': ['dimension'], 'Values': ['7x7'], 'Ground Truth': ['7x7']}\n",
      "{'Query': 'Introducing the Pink Palace, a dreamy retreat in a compact 10x10 dimension. Dive into a world of elegance with its soft pink hue, exuding charm and sophistication. At just $200, indulge in luxury without breaking the bank. Need assistance? Call us at 789-012-3456 to make this enchanting haven yours today.', 'Feature Set': ['price', 'color', 'dimension', 'phone_number'], 'Values': ['$200', 'pink', '10x10', '789-012-3456'], 'Ground Truth': ['pink', '10x10']}\n",
      "{'Query': \"Looking to add a pop of color to your space? Look no further than our vibrant Red Racer, measuring 8x8. Priced at just $500, it's a steal for anyone seeking style and affordability. Ready to revamp your home? Call 567-890-1234 to order yours today!\", 'Feature Set': ['color', 'price', 'phone_number', 'dimension'], 'Values': ['red', '$500', '567-890-1234', '8x8'], 'Ground Truth': ['red', '8x8']}\n",
      "{'Query': \"At just $300, our latest product is a steal! Whether you're a budget-savvy shopper or looking for a great deal, this price point won't break the bank. Don't miss out on this fantastic offer – get yours today!\", 'Feature Set': ['price'], 'Values': ['$300'], 'Ground Truth': []}\n",
      "{'Query': \"Introducing the Blue Cube, a compact wonder measuring 1x1. At just $900, this sleek and stylish addition to your space will elevate your decor to new heights. Don't miss your chance to own this exquisite blue piece – order now before it's gone!\", 'Feature Set': ['color', 'dimension', 'price'], 'Values': ['blue', '1x1', '$900'], 'Ground Truth': ['blue', '1x1']}\n",
      "{'Query': 'Recently, I purchased the Purple Power product for $200 and I must say, it exceeded my expectations. The color is vibrant and adds a unique touch to my setup. Plus, the ease of ordering with the provided phone number (678-901-2345) made the process seamless. Highly recommend!', 'Feature Set': ['color', 'phone_number', 'price'], 'Values': ['purple', '678-901-2345', '$200'], 'Ground Truth': ['purple']}\n",
      "{'Query': 'Have you been searching for a great deal? Look no further! Our product is now available for just $200. Need more information or ready to make a purchase? Call us at 234-567-8901 and let us assist you today!', 'Feature Set': ['price', 'phone_number'], 'Values': ['$200', '234-567-8901'], 'Ground Truth': []}\n"
     ]
    }
   ],
   "source": [
    "with open(file_path, \"r\") as f:\n",
    "    for line in f:\n",
    "        # Parse JSON object from the line\n",
    "        read = json.loads(line)\n",
    "        \n",
    "        # Process the data (for example, print it)\n",
    "        print(read)\n"
   ]
  },
  {
   "cell_type": "code",
   "execution_count": null,
   "metadata": {},
   "outputs": [],
   "source": []
  },
  {
   "cell_type": "code",
   "execution_count": 7,
   "metadata": {},
   "outputs": [],
   "source": []
  },
  {
   "cell_type": "code",
   "execution_count": null,
   "metadata": {},
   "outputs": [],
   "source": []
  }
 ],
 "metadata": {
  "kernelspec": {
   "display_name": "base",
   "language": "python",
   "name": "python3"
  },
  "language_info": {
   "codemirror_mode": {
    "name": "ipython",
    "version": 3
   },
   "file_extension": ".py",
   "mimetype": "text/x-python",
   "name": "python",
   "nbconvert_exporter": "python",
   "pygments_lexer": "ipython3",
   "version": "3.8.5"
  }
 },
 "nbformat": 4,
 "nbformat_minor": 2
}
