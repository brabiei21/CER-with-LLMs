{
 "cells": [
  {
   "cell_type": "markdown",
   "metadata": {},
   "source": [
    "# Custom Entity Recognition (Proof of Concept)"
   ]
  },
  {
   "cell_type": "markdown",
   "metadata": {},
   "source": [
    "### Necessary Libraries"
   ]
  },
  {
   "cell_type": "code",
   "execution_count": 65,
   "metadata": {},
   "outputs": [],
   "source": [
    "\n",
    "import langchain\n",
    "import os\n",
    "from model import init_llm\n",
    "from dotenv import load_dotenv\n",
    "from prompts import get_blurb_prompt, get_eval_with_feature_prompt\n",
    "import random\n",
    "import time \n",
    "import json\n",
    "import matplotlib.pyplot as plt\n",
    "\n",
    "verbose = False\n",
    "load_dotenv()\n",
    "file_path = 'dataset_100.jsonl'\n",
    "eval_file_path = 'eval2.jsonl'"
   ]
  },
  {
   "cell_type": "markdown",
   "metadata": {},
   "source": [
    "### Utility functions"
   ]
  },
  {
   "cell_type": "code",
   "execution_count": 2,
   "metadata": {},
   "outputs": [],
   "source": [
    "# Function to randomly select subsets of varying sizes\n",
    "def select_random_subsets(input_list, num_subsets):\n",
    "    subsets = []\n",
    "    list_length = len(input_list)\n",
    "    \n",
    "    for _ in range(num_subsets):\n",
    "        subset_size = random.randint(1, list_length)  # Random subset size\n",
    "        subset = random.sample(input_list, subset_size)\n",
    "        subsets.append(subset)\n",
    "    \n",
    "    return subsets"
   ]
  },
  {
   "cell_type": "markdown",
   "metadata": {},
   "source": [
    "## Generation Phase"
   ]
  },
  {
   "cell_type": "code",
   "execution_count": 3,
   "metadata": {},
   "outputs": [],
   "source": [
    "# initialize the language model\n",
    "llm = init_llm()\n",
    "\n",
    "prompt = get_blurb_prompt()\n",
    "\n",
    "gen_query_chain = langchain.LLMChain(\n",
    "        llm=llm,\n",
    "        prompt=prompt,\n",
    "        verbose=verbose\n",
    "    )"
   ]
  },
  {
   "cell_type": "code",
   "execution_count": 4,
   "metadata": {},
   "outputs": [],
   "source": [
    "# Pre-defined feature sets\n",
    "\n",
    "# features = ['price', 'phone_number', 'color', 'dimension']\n",
    "features = ['color', 'dimension', 'price', 'location']\n",
    "positive = ['color', 'dimension']\n",
    "negative = [\"price\", \"location\"]\n",
    "\n",
    "colors = [\"red\", \"blue\", \"green\", \"yellow\", \"black\", \"white\", \"purple\", \"orange\", \"pink\", \"brown\"]\n",
    "phone_numbers = [\"123-456-7890\", \"234-567-8901\", \"345-678-9012\", \"456-789-0123\", \"567-890-1234\", \"678-901-2345\", \"789-012-3456\", \"890-123-4567\", \"901-234-5678\", \"012-345-6789\"]\n",
    "prices = [\"$100\", \"$200\", \"$300\", \"$400\", \"$500\", \"$600\", \"$700\", \"$800\", \"$900\", \"$1000\"]\n",
    "dimensions = [\"1x1\", \"2x2\", \"3x3\", \"4x4\", \"5x5\", \"6x6\", \"7x7\", \"8x8\", \"9x9\", \"10x10\"]\n",
    "locations = [\"New York\", \"Los Angeles\", \"Chicago\", \"Houston\", \"Phoenix\", \"Philadelphia\", \"San Antonio\", \"San Diego\", \"Dallas\", \"San Jose\"]\n",
    "\n",
    "data = {'color': colors, 'location': locations, 'price': prices, 'dimension': dimensions}\n"
   ]
  },
  {
   "cell_type": "code",
   "execution_count": 5,
   "metadata": {},
   "outputs": [],
   "source": [
    "random_subsets = select_random_subsets(features, 100)\n",
    "\n",
    "ground_truths = []\n",
    "\n",
    "for idx, feature_set in enumerate(random_subsets):\n",
    "\n",
    "    ground_truth_feature = []\n",
    "    ground_truth_value = []\n",
    "    negative_feature = []\n",
    "    negative_value = []\n",
    "    \n",
    "    vals = []\n",
    "    \n",
    "\n",
    "    for feature in feature_set:\n",
    "        if feature == \"dimension\":\n",
    "            dim = random.choice(data[feature])\n",
    "            ground_truth_value.append(dim)\n",
    "            ground_truth_feature.append(feature)\n",
    "            vals.append(dim)\n",
    "        \n",
    "        if feature == \"color\":\n",
    "            col = random.choice(data[feature])\n",
    "            ground_truth_value.append(col)\n",
    "            ground_truth_feature.append(feature)\n",
    "            vals.append(col)\n",
    "\n",
    "        if feature == \"price\":\n",
    "            pri = random.choice(data[feature])\n",
    "            negative_value.append(pri)\n",
    "            negative_feature.append(feature)\n",
    "            vals.append(pri)\n",
    "\n",
    "        if feature == \"phone_number\":\n",
    "            pho = random.choice(data[feature])\n",
    "            negative_value.append(pho)\n",
    "            negative_feature.append(feature)\n",
    "            vals.append(pho)\n",
    "            \n",
    "        if feature == \"location\":\n",
    "            loc = random.choice(data[feature])\n",
    "            negative_value.append(loc)\n",
    "            negative_feature.append(feature)\n",
    "            vals.append(loc)\n",
    "\n",
    "    output = gen_query_chain.predict(features=feature_set, values=vals)\n",
    "\n",
    "    temp = {\"Query\": output,\n",
    "            \"Feature Set\": feature_set, \n",
    "            \"Values\": vals, \n",
    "            \"Ground Truth Features\": ground_truth_feature, \n",
    "            \"Ground Truth Values\": ground_truth_value, \n",
    "            \"Negative Features\": negative_feature, \n",
    "            \"Negative Values\": negative_value}\n",
    "\n",
    "    with open(file_path, \"a\") as f:\n",
    "        json.dump(temp, f)  # Write JSON object\n",
    "        f.write('\\n')       # Add a newline to separate objects"
   ]
  },
  {
   "cell_type": "markdown",
   "metadata": {},
   "source": [
    "## Evaluation Phase"
   ]
  },
  {
   "cell_type": "code",
   "execution_count": 8,
   "metadata": {},
   "outputs": [],
   "source": [
    "# initialize the language model\n",
    "llm = init_llm()\n",
    "\n",
    "prompt = get_eval_with_feature_prompt()\n",
    "prompt = get_eval_with_feature_prompt(False)\n",
    "\n",
    "eval_query_chain = langchain.LLMChain(\n",
    "        llm=llm,\n",
    "        prompt=prompt,\n",
    "        verbose=verbose\n",
    "    )"
   ]
  },
  {
   "cell_type": "code",
   "execution_count": 9,
   "metadata": {},
   "outputs": [],
   "source": [
    "with open(file_path, 'r') as file:\n",
    "    for line in file:\n",
    "        content = json.loads(line)\n",
    "        #output = eval_query_chain.predict(features=positive, post=content['Query'])\n",
    "        output = eval_query_chain.predict(post=content['Query'])\n",
    "        \n",
    "        with open(eval_file_path, \"a\") as f:\n",
    "            temp = {\"Response\": output}\n",
    "            json.dump(temp, f)  # Write JSON object\n",
    "            f.write('\\n')       # Add a newline to separate objects\n"
   ]
  },
  {
   "cell_type": "code",
   "execution_count": 55,
   "metadata": {},
   "outputs": [
    {
     "data": {
      "text/plain": [
       "True"
      ]
     },
     "execution_count": 55,
     "metadata": {},
     "output_type": "execute_result"
    }
   ],
   "source": [
    "def parse_values(data_str):\n",
    "    # Normalize newline characters and split the string into records based on the ';;' separator\n",
    "    records = data_str.replace('\\n', '').split(';;')\n",
    "    # Initialize an empty dictionary to store the parsed data\n",
    "    parsed_data = {}\n",
    "    # Iterate through each record\n",
    "    for record in records:\n",
    "        # Check if the record is not empty\n",
    "        if record:\n",
    "            # Split the record into attribute name and value based on the '::' separator\n",
    "            attr_name, attr_value = record.split('::')\n",
    "            # Add the attribute and its value to the dictionary only if the value is not empty\n",
    "            if attr_value != '':\n",
    "                parsed_data[attr_name] = attr_value\n",
    "    return parsed_data\n",
    "\n",
    "# Example string to parse with a newline character and an empty value\n",
    "data_str_with_newline_and_empty_value = \"color::;;\\ndimension::;;\"\n",
    "\n",
    "\n",
    "# Parse the string and print the result\n",
    "parsed_data_with_newline_and_empty_value = parse_values(data_str_with_newline_and_empty_value)\n",
    "parsed_data_with_newline_and_empty_value\n",
    "\n",
    "def contains_any(big_string, small_strings):\n",
    "    # Check if at least one of the small strings is in the big string\n",
    "    for small_string in small_strings:\n",
    "        if small_string in big_string:\n",
    "            return True  # Found at least one match\n",
    "    return False  # No matches found\n",
    "\n",
    "# Example big string\n",
    "big_string = \"This is a test string to check for the presence of certain smaller strings.\"\n",
    "\n",
    "# List of small strings to check against the big string\n",
    "small_strings = [\"test\", \"absent\", \"presence\", \"missing\"]\n",
    "\n",
    "# Check if the big string contains at least one of the small strings\n",
    "contains_any(big_string, small_strings)\n"
   ]
  },
  {
   "cell_type": "code",
   "execution_count": 70,
   "metadata": {},
   "outputs": [
    {
     "name": "stdout",
     "output_type": "stream",
     "text": [
      "118 23 0\n"
     ]
    },
    {
     "data": {
      "image/png": "[encoded data removed]",
      "text/plain": [
       "<Figure size 720x432 with 1 Axes>"
      ]
     },
     "metadata": {
      "needs_background": "light"
     },
     "output_type": "display_data"
    }
   ],
   "source": [
    "TP = 0\n",
    "FP = 0\n",
    "FN = 0\n",
    "\n",
    "i = 0\n",
    "with open(eval_file_path, 'r') as file:\n",
    "    with open(file_path, 'r') as f:\n",
    "        for line, line2 in zip(file,f):\n",
    "            \n",
    "            content = json.loads(line)\n",
    "            content2 = json.loads(line2)\n",
    "            \n",
    "            str = content['Response']\n",
    "            parsed_data = parse_values(str)\n",
    "            gtf, gtv = content2['Ground Truth Features'], content2['Ground Truth Values']\n",
    "            gt = zip(content2['Ground Truth Features'], content2['Ground Truth Values'])\n",
    "            \n",
    "            # Get True Positives\n",
    "            for (feature, value) in gt:\n",
    "                if feature in parsed_data.keys() and value in parsed_data[feature]:\n",
    "                    TP += 1\n",
    "                    \n",
    "            # Get False Positives\n",
    "            for (key, val) in zip(parsed_data.keys(), parsed_data.values()):\n",
    "                if key not in gtf:\n",
    "                    FP += 1\n",
    "                elif not contains_any(val, gtv):\n",
    "                    FP += 1\n",
    "                    \n",
    "            # Get False Negatives\n",
    "            for (feature, value) in gt:\n",
    "                if feature not in parsed_data.keys():\n",
    "                    FN += 1\n",
    "                  \n",
    "                   \n",
    "\n",
    "print(TP, FP, FN) \n",
    "# bar plot with varying colors\n",
    "plt.figure(figsize=(10, 6))\n",
    "plt.bar(['True Positives', 'False Positives', 'False Negatives'], [TP, FP, FN], color=['green', 'red', 'blue'])\n",
    "plt.xlabel('Type of Prediction')\n",
    "plt.ylabel('Count')\n",
    "plt.title('True Positives, False Positives, and False Negatives (Given feature, set of 100 data points)')\n",
    "plt.show()"
   ]
  },
  {
   "cell_type": "code",
   "execution_count": 73,
   "metadata": {},
   "outputs": [
    {
     "data": {
      "image/png": "[encoded data removed]",
      "text/plain": [
       "<Figure size 720x432 with 1 Axes>"
      ]
     },
     "metadata": {
      "needs_background": "light"
     },
     "output_type": "display_data"
    }
   ],
   "source": [
    "accuracy = TP / (TP + FP + FN)\n",
    "precisions = TP / (TP + FP)\n",
    "recall = TP / (TP + FN)\n",
    "f1 = 2 * (precisions * recall) / (precisions + recall)\n",
    "\n",
    "plt.figure(figsize=(10, 6))\n",
    "plt.bar(['Accuracy', 'Precision', 'Recall', 'F1 Score'], [accuracy, precisions, recall, f1], color=['green', 'red', 'blue', 'orange'])\n",
    "plt.xlabel('Type of Prediction')\n",
    "plt.ylabel('Percentage')\n",
    "plt.title('Accuracy, Precision, Recall, and F1 Score (Given feature, set of 100 data points)')\n",
    "plt.show()"
   ]
  },
  {
   "cell_type": "code",
   "execution_count": 69,
   "metadata": {},
   "outputs": [
    {
     "ename": "ValueError",
     "evalue": "not enough values to unpack (expected 2, got 1)",
     "output_type": "error",
     "traceback": [
      "\u001b[0;31m---------------------------------------------------------------------------\u001b[0m",
      "\u001b[0;31mValueError\u001b[0m                                Traceback (most recent call last)",
      "\u001b[0;32m<ipython-input-69-dcef52ac0b2e>\u001b[0m in \u001b[0;36m<module>\u001b[0;34m\u001b[0m\n\u001b[1;32m     12\u001b[0m \u001b[0;34m\u001b[0m\u001b[0m\n\u001b[1;32m     13\u001b[0m             \u001b[0mstr\u001b[0m \u001b[0;34m=\u001b[0m \u001b[0mcontent\u001b[0m\u001b[0;34m[\u001b[0m\u001b[0;34m'Response'\u001b[0m\u001b[0;34m]\u001b[0m\u001b[0;34m\u001b[0m\u001b[0;34m\u001b[0m\u001b[0m\n\u001b[0;32m---> 14\u001b[0;31m             \u001b[0mparsed_data\u001b[0m \u001b[0;34m=\u001b[0m \u001b[0mparse_values\u001b[0m\u001b[0;34m(\u001b[0m\u001b[0mstr\u001b[0m\u001b[0;34m)\u001b[0m\u001b[0;34m\u001b[0m\u001b[0;34m\u001b[0m\u001b[0m\n\u001b[0m\u001b[1;32m     15\u001b[0m             \u001b[0mgtf\u001b[0m\u001b[0;34m,\u001b[0m \u001b[0mgtv\u001b[0m \u001b[0;34m=\u001b[0m \u001b[0mcontent2\u001b[0m\u001b[0;34m[\u001b[0m\u001b[0;34m'Ground Truth Features'\u001b[0m\u001b[0;34m]\u001b[0m\u001b[0;34m,\u001b[0m \u001b[0mcontent2\u001b[0m\u001b[0;34m[\u001b[0m\u001b[0;34m'Ground Truth Values'\u001b[0m\u001b[0;34m]\u001b[0m\u001b[0;34m\u001b[0m\u001b[0;34m\u001b[0m\u001b[0m\n\u001b[1;32m     16\u001b[0m             \u001b[0mgt\u001b[0m \u001b[0;34m=\u001b[0m \u001b[0mzip\u001b[0m\u001b[0;34m(\u001b[0m\u001b[0mcontent2\u001b[0m\u001b[0;34m[\u001b[0m\u001b[0;34m'Ground Truth Features'\u001b[0m\u001b[0;34m]\u001b[0m\u001b[0;34m,\u001b[0m \u001b[0mcontent2\u001b[0m\u001b[0;34m[\u001b[0m\u001b[0;34m'Ground Truth Values'\u001b[0m\u001b[0;34m]\u001b[0m\u001b[0;34m)\u001b[0m\u001b[0;34m\u001b[0m\u001b[0;34m\u001b[0m\u001b[0m\n",
      "\u001b[0;32m<ipython-input-55-a8341dbb89c0>\u001b[0m in \u001b[0;36mparse_values\u001b[0;34m(data_str)\u001b[0m\n\u001b[1;32m      9\u001b[0m         \u001b[0;32mif\u001b[0m \u001b[0mrecord\u001b[0m\u001b[0;34m:\u001b[0m\u001b[0;34m\u001b[0m\u001b[0;34m\u001b[0m\u001b[0m\n\u001b[1;32m     10\u001b[0m             \u001b[0;31m# Split the record into attribute name and value based on the '::' separator\u001b[0m\u001b[0;34m\u001b[0m\u001b[0;34m\u001b[0m\u001b[0;34m\u001b[0m\u001b[0m\n\u001b[0;32m---> 11\u001b[0;31m             \u001b[0mattr_name\u001b[0m\u001b[0;34m,\u001b[0m \u001b[0mattr_value\u001b[0m \u001b[0;34m=\u001b[0m \u001b[0mrecord\u001b[0m\u001b[0;34m.\u001b[0m\u001b[0msplit\u001b[0m\u001b[0;34m(\u001b[0m\u001b[0;34m'::'\u001b[0m\u001b[0;34m)\u001b[0m\u001b[0;34m\u001b[0m\u001b[0;34m\u001b[0m\u001b[0m\n\u001b[0m\u001b[1;32m     12\u001b[0m             \u001b[0;31m# Add the attribute and its value to the dictionary only if the value is not empty\u001b[0m\u001b[0;34m\u001b[0m\u001b[0;34m\u001b[0m\u001b[0;34m\u001b[0m\u001b[0m\n\u001b[1;32m     13\u001b[0m             \u001b[0;32mif\u001b[0m \u001b[0mattr_value\u001b[0m \u001b[0;34m!=\u001b[0m \u001b[0;34m''\u001b[0m\u001b[0;34m:\u001b[0m\u001b[0;34m\u001b[0m\u001b[0;34m\u001b[0m\u001b[0m\n",
      "\u001b[0;31mValueError\u001b[0m: not enough values to unpack (expected 2, got 1)"
     ]
    }
   ],
   "source": [
    "TP = 0\n",
    "FP = 0\n",
    "FN = 0\n",
    "\n",
    "i = 0\n",
    "with open('eval.jsonl', 'r') as file:\n",
    "    with open(file_path, 'r') as f:\n",
    "        for line, line2 in zip(file,f):\n",
    "            \n",
    "            content = json.loads(line)\n",
    "            content2 = json.loads(line2)\n",
    "            \n",
    "            str = content['Response']\n",
    "            parsed_data = parse_values(str)\n",
    "            gtf, gtv = content2['Ground Truth Features'], content2['Ground Truth Values']\n",
    "            gt = zip(content2['Ground Truth Features'], content2['Ground Truth Values'])\n",
    "            \n",
    "            # Get True Positives\n",
    "            for (feature, value) in gt:\n",
    "                if feature in parsed_data.keys() and value in parsed_data[feature]:\n",
    "                    TP += 1\n",
    "                    \n",
    "            # Get False Positives\n",
    "            for (key, val) in zip(parsed_data.keys(), parsed_data.values()):\n",
    "                if key not in gtf:\n",
    "                    FP += 1\n",
    "                elif not contains_any(val, gtv):\n",
    "                    FP += 1\n",
    "                    \n",
    "            # Get False Negatives\n",
    "            for (feature, value) in gt:\n",
    "                if feature not in parsed_data.keys():\n",
    "                    FN += 1\n",
    "                  \n",
    "                   \n",
    "\n",
    "print(TP, FP, FN) \n",
    "plt.bar(['True Positives', 'False Positives', 'False Negatives'], [TP, FP, FN])\n",
    "plt.title('Evaluation Given Features')\n",
    "plt.show()"
   ]
  },
  {
   "cell_type": "code",
   "execution_count": null,
   "metadata": {},
   "outputs": [],
   "source": [
    "accuracy = TP / (TP + FP + FN)\n",
    "precisions = TP / (TP + FP)\n",
    "recall = TP / (TP + FN)\n",
    "\n",
    "plt.bar(['Accuracy', 'Precision', 'Recall'], [accuracy, precisions, recall])"
   ]
  }
 ],
 "metadata": {
  "kernelspec": {
   "display_name": "base",
   "language": "python",
   "name": "python3"
  },
  "language_info": {
   "codemirror_mode": {
    "name": "ipython",
    "version": 3
   },
   "file_extension": ".py",
   "mimetype": "text/x-python",
   "name": "python",
   "nbconvert_exporter": "python",
   "pygments_lexer": "ipython3",
   "version": "3.8.5"
  }
 },
 "nbformat": 4,
 "nbformat_minor": 2
}
